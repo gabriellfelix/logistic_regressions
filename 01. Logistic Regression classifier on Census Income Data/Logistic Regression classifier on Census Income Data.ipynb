{
 "cells": [
  {
   "cell_type": "code",
   "execution_count": 28,
   "id": "758d3a08",
   "metadata": {},
   "outputs": [],
   "source": [
    "# Importando Bibliotecas\n",
    "\n",
    "import numpy as np\n",
    "import pandas as pd\n",
    "import io\n",
    "import requests\n",
    "import seaborn as sns\n",
    "from matplotlib import pyplot as plt\n",
    "import pickle\n",
    "import os\n",
    "from pandas.api.types import CategoricalDtype\n",
    "from sklearn.base import BaseEstimator, TransformerMixin\n",
    "from sklearn.pipeline import Pipeline\n",
    "from sklearn.metrics import accuracy_score\n",
    "from sklearn.linear_model import LogisticRegression\n",
    "from sklearn.model_selection import GridSearchCV\n",
    "from sklearn.metrics import classification_report\n",
    "from sklearn.metrics import confusion_matrix\n",
    "from sklearn.preprocessing import StandardScaler\n",
    "from sklearn.pipeline import FeatureUnion\n",
    "from sklearn.model_selection import cross_val_score\n",
    "from IPython.display import display, Markdown\n",
    "\n",
    "%matplotlib inline"
   ]
  },
  {
   "cell_type": "code",
   "execution_count": 2,
   "id": "8f0bc6a0",
   "metadata": {},
   "outputs": [],
   "source": [
    "# Função para requisitar e salvar o dataset\n",
    "\n",
    "def load_dataset(path,urls):\n",
    "#   Se o diretório recebido por parâmetro não existir, ele será criado\n",
    "    if not os.path.exists(path):\n",
    "        os.mkdir(path)\n",
    "        \n",
    "#   Para cada URL recebida por parâmetro, recebe o seu conteúdo e o escreve num arquivo criado no diretório\n",
    "    for url in urls:\n",
    "        data = requests.get(url).content\n",
    "        filename = os.path.join(path, os.path.basename(url))\n",
    "        with open(filename, \"wb\") as file:\n",
    "            file.write(data)"
   ]
  },
  {
   "cell_type": "code",
   "execution_count": 3,
   "id": "41a36ecc",
   "metadata": {},
   "outputs": [],
   "source": [
    "urls = [\"http://archive.ics.uci.edu/ml/machine-learning-databases/adult/adult.data\",\n",
    "        \"https://archive.ics.uci.edu/ml/machine-learning-databases/adult/adult.names\",\n",
    "        \"https://archive.ics.uci.edu/ml/machine-learning-databases/adult/adult.test\"]\n",
    "\n",
    "# Solicitando a importação do Dataset contido nas URLS acima\n",
    "\n",
    "load_dataset('data', urls)"
   ]
  },
  {
   "cell_type": "code",
   "execution_count": 36,
   "id": "fd4922c8",
   "metadata": {},
   "outputs": [
    {
     "data": {
      "text/markdown": [
       "**Dataset de Treino:**"
      ],
      "text/plain": [
       "<IPython.core.display.Markdown object>"
      ]
     },
     "metadata": {},
     "output_type": "display_data"
    },
    {
     "data": {
      "text/markdown": [
       "Variável Target: 'income'"
      ],
      "text/plain": [
       "<IPython.core.display.Markdown object>"
      ]
     },
     "metadata": {},
     "output_type": "display_data"
    },
    {
     "data": {
      "text/html": [
       "<div>\n",
       "<style scoped>\n",
       "    .dataframe tbody tr th:only-of-type {\n",
       "        vertical-align: middle;\n",
       "    }\n",
       "\n",
       "    .dataframe tbody tr th {\n",
       "        vertical-align: top;\n",
       "    }\n",
       "\n",
       "    .dataframe thead th {\n",
       "        text-align: right;\n",
       "    }\n",
       "</style>\n",
       "<table border=\"1\" class=\"dataframe\">\n",
       "  <thead>\n",
       "    <tr style=\"text-align: right;\">\n",
       "      <th></th>\n",
       "      <th>age</th>\n",
       "      <th>workClass</th>\n",
       "      <th>fnlwgt</th>\n",
       "      <th>education</th>\n",
       "      <th>education-num</th>\n",
       "      <th>marital-status</th>\n",
       "      <th>occupation</th>\n",
       "      <th>relationship</th>\n",
       "      <th>race</th>\n",
       "      <th>sex</th>\n",
       "      <th>capital-gain</th>\n",
       "      <th>capital-loss</th>\n",
       "      <th>hours-per-week</th>\n",
       "      <th>native-country</th>\n",
       "      <th>income</th>\n",
       "    </tr>\n",
       "  </thead>\n",
       "  <tbody>\n",
       "    <tr>\n",
       "      <th>0</th>\n",
       "      <td>39</td>\n",
       "      <td>State-gov</td>\n",
       "      <td>77516</td>\n",
       "      <td>Bachelors</td>\n",
       "      <td>13</td>\n",
       "      <td>Never-married</td>\n",
       "      <td>Adm-clerical</td>\n",
       "      <td>Not-in-family</td>\n",
       "      <td>White</td>\n",
       "      <td>Male</td>\n",
       "      <td>2174</td>\n",
       "      <td>0</td>\n",
       "      <td>40</td>\n",
       "      <td>United-States</td>\n",
       "      <td>&lt;=50K</td>\n",
       "    </tr>\n",
       "    <tr>\n",
       "      <th>1</th>\n",
       "      <td>50</td>\n",
       "      <td>Self-emp-not-inc</td>\n",
       "      <td>83311</td>\n",
       "      <td>Bachelors</td>\n",
       "      <td>13</td>\n",
       "      <td>Married-civ-spouse</td>\n",
       "      <td>Exec-managerial</td>\n",
       "      <td>Husband</td>\n",
       "      <td>White</td>\n",
       "      <td>Male</td>\n",
       "      <td>0</td>\n",
       "      <td>0</td>\n",
       "      <td>13</td>\n",
       "      <td>United-States</td>\n",
       "      <td>&lt;=50K</td>\n",
       "    </tr>\n",
       "    <tr>\n",
       "      <th>2</th>\n",
       "      <td>38</td>\n",
       "      <td>Private</td>\n",
       "      <td>215646</td>\n",
       "      <td>HS-grad</td>\n",
       "      <td>9</td>\n",
       "      <td>Divorced</td>\n",
       "      <td>Handlers-cleaners</td>\n",
       "      <td>Not-in-family</td>\n",
       "      <td>White</td>\n",
       "      <td>Male</td>\n",
       "      <td>0</td>\n",
       "      <td>0</td>\n",
       "      <td>40</td>\n",
       "      <td>United-States</td>\n",
       "      <td>&lt;=50K</td>\n",
       "    </tr>\n",
       "    <tr>\n",
       "      <th>3</th>\n",
       "      <td>53</td>\n",
       "      <td>Private</td>\n",
       "      <td>234721</td>\n",
       "      <td>11th</td>\n",
       "      <td>7</td>\n",
       "      <td>Married-civ-spouse</td>\n",
       "      <td>Handlers-cleaners</td>\n",
       "      <td>Husband</td>\n",
       "      <td>Black</td>\n",
       "      <td>Male</td>\n",
       "      <td>0</td>\n",
       "      <td>0</td>\n",
       "      <td>40</td>\n",
       "      <td>United-States</td>\n",
       "      <td>&lt;=50K</td>\n",
       "    </tr>\n",
       "    <tr>\n",
       "      <th>4</th>\n",
       "      <td>28</td>\n",
       "      <td>Private</td>\n",
       "      <td>338409</td>\n",
       "      <td>Bachelors</td>\n",
       "      <td>13</td>\n",
       "      <td>Married-civ-spouse</td>\n",
       "      <td>Prof-specialty</td>\n",
       "      <td>Wife</td>\n",
       "      <td>Black</td>\n",
       "      <td>Female</td>\n",
       "      <td>0</td>\n",
       "      <td>0</td>\n",
       "      <td>40</td>\n",
       "      <td>Cuba</td>\n",
       "      <td>&lt;=50K</td>\n",
       "    </tr>\n",
       "    <tr>\n",
       "      <th>...</th>\n",
       "      <td>...</td>\n",
       "      <td>...</td>\n",
       "      <td>...</td>\n",
       "      <td>...</td>\n",
       "      <td>...</td>\n",
       "      <td>...</td>\n",
       "      <td>...</td>\n",
       "      <td>...</td>\n",
       "      <td>...</td>\n",
       "      <td>...</td>\n",
       "      <td>...</td>\n",
       "      <td>...</td>\n",
       "      <td>...</td>\n",
       "      <td>...</td>\n",
       "      <td>...</td>\n",
       "    </tr>\n",
       "    <tr>\n",
       "      <th>32556</th>\n",
       "      <td>27</td>\n",
       "      <td>Private</td>\n",
       "      <td>257302</td>\n",
       "      <td>Assoc-acdm</td>\n",
       "      <td>12</td>\n",
       "      <td>Married-civ-spouse</td>\n",
       "      <td>Tech-support</td>\n",
       "      <td>Wife</td>\n",
       "      <td>White</td>\n",
       "      <td>Female</td>\n",
       "      <td>0</td>\n",
       "      <td>0</td>\n",
       "      <td>38</td>\n",
       "      <td>United-States</td>\n",
       "      <td>&lt;=50K</td>\n",
       "    </tr>\n",
       "    <tr>\n",
       "      <th>32557</th>\n",
       "      <td>40</td>\n",
       "      <td>Private</td>\n",
       "      <td>154374</td>\n",
       "      <td>HS-grad</td>\n",
       "      <td>9</td>\n",
       "      <td>Married-civ-spouse</td>\n",
       "      <td>Machine-op-inspct</td>\n",
       "      <td>Husband</td>\n",
       "      <td>White</td>\n",
       "      <td>Male</td>\n",
       "      <td>0</td>\n",
       "      <td>0</td>\n",
       "      <td>40</td>\n",
       "      <td>United-States</td>\n",
       "      <td>&gt;50K</td>\n",
       "    </tr>\n",
       "    <tr>\n",
       "      <th>32558</th>\n",
       "      <td>58</td>\n",
       "      <td>Private</td>\n",
       "      <td>151910</td>\n",
       "      <td>HS-grad</td>\n",
       "      <td>9</td>\n",
       "      <td>Widowed</td>\n",
       "      <td>Adm-clerical</td>\n",
       "      <td>Unmarried</td>\n",
       "      <td>White</td>\n",
       "      <td>Female</td>\n",
       "      <td>0</td>\n",
       "      <td>0</td>\n",
       "      <td>40</td>\n",
       "      <td>United-States</td>\n",
       "      <td>&lt;=50K</td>\n",
       "    </tr>\n",
       "    <tr>\n",
       "      <th>32559</th>\n",
       "      <td>22</td>\n",
       "      <td>Private</td>\n",
       "      <td>201490</td>\n",
       "      <td>HS-grad</td>\n",
       "      <td>9</td>\n",
       "      <td>Never-married</td>\n",
       "      <td>Adm-clerical</td>\n",
       "      <td>Own-child</td>\n",
       "      <td>White</td>\n",
       "      <td>Male</td>\n",
       "      <td>0</td>\n",
       "      <td>0</td>\n",
       "      <td>20</td>\n",
       "      <td>United-States</td>\n",
       "      <td>&lt;=50K</td>\n",
       "    </tr>\n",
       "    <tr>\n",
       "      <th>32560</th>\n",
       "      <td>52</td>\n",
       "      <td>Self-emp-inc</td>\n",
       "      <td>287927</td>\n",
       "      <td>HS-grad</td>\n",
       "      <td>9</td>\n",
       "      <td>Married-civ-spouse</td>\n",
       "      <td>Exec-managerial</td>\n",
       "      <td>Wife</td>\n",
       "      <td>White</td>\n",
       "      <td>Female</td>\n",
       "      <td>15024</td>\n",
       "      <td>0</td>\n",
       "      <td>40</td>\n",
       "      <td>United-States</td>\n",
       "      <td>&gt;50K</td>\n",
       "    </tr>\n",
       "  </tbody>\n",
       "</table>\n",
       "<p>32561 rows × 15 columns</p>\n",
       "</div>"
      ],
      "text/plain": [
       "       age         workClass  fnlwgt   education  education-num  \\\n",
       "0       39         State-gov   77516   Bachelors             13   \n",
       "1       50  Self-emp-not-inc   83311   Bachelors             13   \n",
       "2       38           Private  215646     HS-grad              9   \n",
       "3       53           Private  234721        11th              7   \n",
       "4       28           Private  338409   Bachelors             13   \n",
       "...    ...               ...     ...         ...            ...   \n",
       "32556   27           Private  257302  Assoc-acdm             12   \n",
       "32557   40           Private  154374     HS-grad              9   \n",
       "32558   58           Private  151910     HS-grad              9   \n",
       "32559   22           Private  201490     HS-grad              9   \n",
       "32560   52      Self-emp-inc  287927     HS-grad              9   \n",
       "\n",
       "           marital-status         occupation   relationship   race     sex  \\\n",
       "0           Never-married       Adm-clerical  Not-in-family  White    Male   \n",
       "1      Married-civ-spouse    Exec-managerial        Husband  White    Male   \n",
       "2                Divorced  Handlers-cleaners  Not-in-family  White    Male   \n",
       "3      Married-civ-spouse  Handlers-cleaners        Husband  Black    Male   \n",
       "4      Married-civ-spouse     Prof-specialty           Wife  Black  Female   \n",
       "...                   ...                ...            ...    ...     ...   \n",
       "32556  Married-civ-spouse       Tech-support           Wife  White  Female   \n",
       "32557  Married-civ-spouse  Machine-op-inspct        Husband  White    Male   \n",
       "32558             Widowed       Adm-clerical      Unmarried  White  Female   \n",
       "32559       Never-married       Adm-clerical      Own-child  White    Male   \n",
       "32560  Married-civ-spouse    Exec-managerial           Wife  White  Female   \n",
       "\n",
       "       capital-gain  capital-loss  hours-per-week native-country income  \n",
       "0              2174             0              40  United-States  <=50K  \n",
       "1                 0             0              13  United-States  <=50K  \n",
       "2                 0             0              40  United-States  <=50K  \n",
       "3                 0             0              40  United-States  <=50K  \n",
       "4                 0             0              40           Cuba  <=50K  \n",
       "...             ...           ...             ...            ...    ...  \n",
       "32556             0             0              38  United-States  <=50K  \n",
       "32557             0             0              40  United-States   >50K  \n",
       "32558             0             0              40  United-States  <=50K  \n",
       "32559             0             0              20  United-States  <=50K  \n",
       "32560         15024             0              40  United-States   >50K  \n",
       "\n",
       "[32561 rows x 15 columns]"
      ]
     },
     "execution_count": 36,
     "metadata": {},
     "output_type": "execute_result"
    }
   ],
   "source": [
    "columns = [\"age\", \"workClass\", \"fnlwgt\", \"education\", \"education-num\",\"marital-status\", \"occupation\", \"relationship\",\"race\", \"sex\", \"capital-gain\", \"capital-loss\", \"hours-per-week\", \"native-country\", \"income\"]\n",
    " \n",
    "#  Carregando o dataset com o Pandas\n",
    "    \n",
    "display(Markdown(\"**Dataset de Treino:**\"))\n",
    "display(Markdown(\"Variável Target: 'income'\"))\n",
    "train_data = pd.read_csv('data/adult.data', names=columns, sep=' *, *', na_values='?', engine='python') # Utiliza-se o separador ' *, *' para retirar os espaços em branco de cada campo e informa-se que os valores faltantes estão descritos como '?'\n",
    "test_data = pd.read_csv('data/adult.test', names=columns, sep=' *, *', na_values='?', skiprows=1, engine='python') # Não adiciona a primeira linha ao dataset, pois ela contém lixo\n",
    "\n",
    "train_data"
   ]
  },
  {
   "cell_type": "code",
   "execution_count": 37,
   "id": "4ac804b1",
   "metadata": {
    "scrolled": false
   },
   "outputs": [
    {
     "data": {
      "text/markdown": [
       "**Informações sobre os Atributos do dataset de Treinamento**"
      ],
      "text/plain": [
       "<IPython.core.display.Markdown object>"
      ]
     },
     "metadata": {},
     "output_type": "display_data"
    },
    {
     "name": "stdout",
     "output_type": "stream",
     "text": [
      "<class 'pandas.core.frame.DataFrame'>\n",
      "RangeIndex: 32561 entries, 0 to 32560\n",
      "Data columns (total 15 columns):\n",
      " #   Column          Non-Null Count  Dtype \n",
      "---  ------          --------------  ----- \n",
      " 0   age             32561 non-null  int64 \n",
      " 1   workClass       30725 non-null  object\n",
      " 2   fnlwgt          32561 non-null  int64 \n",
      " 3   education       32561 non-null  object\n",
      " 4   education-num   32561 non-null  int64 \n",
      " 5   marital-status  32561 non-null  object\n",
      " 6   occupation      30718 non-null  object\n",
      " 7   relationship    32561 non-null  object\n",
      " 8   race            32561 non-null  object\n",
      " 9   sex             32561 non-null  object\n",
      " 10  capital-gain    32561 non-null  int64 \n",
      " 11  capital-loss    32561 non-null  int64 \n",
      " 12  hours-per-week  32561 non-null  int64 \n",
      " 13  native-country  31978 non-null  object\n",
      " 14  income          32561 non-null  object\n",
      "dtypes: int64(6), object(9)\n",
      "memory usage: 3.7+ MB\n"
     ]
    }
   ],
   "source": [
    "# Exibindo informações sobre os atributos do dataset de treinamento\n",
    "\n",
    "display(Markdown(\"**Informações sobre os Atributos do dataset de Treinamento:**\"))\n",
    "train_data.info()"
   ]
  },
  {
   "cell_type": "code",
   "execution_count": 42,
   "id": "bb807772",
   "metadata": {},
   "outputs": [
    {
     "data": {
      "text/markdown": [
       "**Informações sobre os Atributos do dataset de Teste:**"
      ],
      "text/plain": [
       "<IPython.core.display.Markdown object>"
      ]
     },
     "metadata": {},
     "output_type": "display_data"
    },
    {
     "name": "stdout",
     "output_type": "stream",
     "text": [
      "<class 'pandas.core.frame.DataFrame'>\n",
      "RangeIndex: 16281 entries, 0 to 16280\n",
      "Data columns (total 15 columns):\n",
      " #   Column          Non-Null Count  Dtype \n",
      "---  ------          --------------  ----- \n",
      " 0   age             16281 non-null  int64 \n",
      " 1   workClass       15318 non-null  object\n",
      " 2   fnlwgt          16281 non-null  int64 \n",
      " 3   education       16281 non-null  object\n",
      " 4   education-num   16281 non-null  int64 \n",
      " 5   marital-status  16281 non-null  object\n",
      " 6   occupation      15315 non-null  object\n",
      " 7   relationship    16281 non-null  object\n",
      " 8   race            16281 non-null  object\n",
      " 9   sex             16281 non-null  object\n",
      " 10  capital-gain    16281 non-null  int64 \n",
      " 11  capital-loss    16281 non-null  int64 \n",
      " 12  hours-per-week  16281 non-null  int64 \n",
      " 13  native-country  16007 non-null  object\n",
      " 14  income          16281 non-null  object\n",
      "dtypes: int64(6), object(9)\n",
      "memory usage: 1.9+ MB\n"
     ]
    }
   ],
   "source": [
    "# Exibindo informações sobre os atributos do dataset de teste\n",
    "\n",
    "display(Markdown(\"**Informações sobre os Atributos do dataset de Teste:**\"))\n",
    "test_data.info()"
   ]
  },
  {
   "cell_type": "code",
   "execution_count": 45,
   "id": "b7da67ad",
   "metadata": {
    "scrolled": false
   },
   "outputs": [
    {
     "data": {
      "text/markdown": [
       "**Quatidade de Valores Faltantes em cada Atributo do dataset de Treinamento:**"
      ],
      "text/plain": [
       "<IPython.core.display.Markdown object>"
      ]
     },
     "metadata": {},
     "output_type": "display_data"
    },
    {
     "name": "stdout",
     "output_type": "stream",
     "text": [
      "age                  0\n",
      "workClass         1836\n",
      "fnlwgt               0\n",
      "education            0\n",
      "education-num        0\n",
      "marital-status       0\n",
      "occupation        1843\n",
      "relationship         0\n",
      "race                 0\n",
      "sex                  0\n",
      "capital-gain         0\n",
      "capital-loss         0\n",
      "hours-per-week       0\n",
      "native-country     583\n",
      "income               0\n",
      "dtype: int64\n"
     ]
    },
    {
     "data": {
      "text/markdown": [
       "- Como a quantidade de tuplas com valores faltantes é de, pelo menos, 5% do total, não é interessante descartar esses registros, pois se trata de uma quantidade expressiva"
      ],
      "text/plain": [
       "<IPython.core.display.Markdown object>"
      ]
     },
     "metadata": {},
     "output_type": "display_data"
    }
   ],
   "source": [
    "# Contando a quantidade de valores faltantes nos atributos do dataset de treinamento\n",
    "\n",
    "display(Markdown(\"**Quatidade de Valores Faltantes em cada Atributo do dataset de Treinamento:**\"))\n",
    "print(train_data.isnull().sum())\n",
    "display(Markdown(\"- Como a quantidade de tuplas com valores faltantes é de, pelo menos, 5% do total, não é interessante descartar esses registros, pois se trata de uma quantidade expressiva\"))"
   ]
  },
  {
   "cell_type": "code",
   "execution_count": 43,
   "id": "d3719231",
   "metadata": {},
   "outputs": [
    {
     "data": {
      "text/markdown": [
       "**Quatidade de Valores Faltantes em cada Atributo do dataset de Teste:**"
      ],
      "text/plain": [
       "<IPython.core.display.Markdown object>"
      ]
     },
     "metadata": {},
     "output_type": "display_data"
    },
    {
     "name": "stdout",
     "output_type": "stream",
     "text": [
      "age                 0\n",
      "workClass         963\n",
      "fnlwgt              0\n",
      "education           0\n",
      "education-num       0\n",
      "marital-status      0\n",
      "occupation        966\n",
      "relationship        0\n",
      "race                0\n",
      "sex                 0\n",
      "capital-gain        0\n",
      "capital-loss        0\n",
      "hours-per-week      0\n",
      "native-country    274\n",
      "income              0\n",
      "dtype: int64\n"
     ]
    }
   ],
   "source": [
    "# Contando a quantidade de valores faltantes nos atributos do dataset de teste\n",
    "\n",
    "display(Markdown(\"**Quatidade de Valores Faltantes em cada Atributo do dataset de Teste:**\"))\n",
    "print(test_data.isnull().sum())"
   ]
  },
  {
   "cell_type": "code",
   "execution_count": 48,
   "id": "9bdbcb1f",
   "metadata": {},
   "outputs": [
    {
     "data": {
      "text/markdown": [
       "**Colunas Numéricas do dataset:**"
      ],
      "text/plain": [
       "<IPython.core.display.Markdown object>"
      ]
     },
     "metadata": {},
     "output_type": "display_data"
    },
    {
     "data": {
      "text/plain": [
       "Index(['age', 'fnlwgt', 'education-num', 'capital-gain', 'capital-loss',\n",
       "       'hours-per-week'],\n",
       "      dtype='object')"
      ]
     },
     "execution_count": 48,
     "metadata": {},
     "output_type": "execute_result"
    }
   ],
   "source": [
    "# Obtendo as labels dos atributos numéricos do dataset\n",
    "\n",
    "display(Markdown(\"**Colunas Numéricas do dataset:**\"))\n",
    "num_attributes = train_data.select_dtypes(include=['int'])\n",
    "num_attributes.columns"
   ]
  },
  {
   "cell_type": "code",
   "execution_count": 49,
   "id": "1212d07c",
   "metadata": {},
   "outputs": [
    {
     "data": {
      "text/markdown": [
       "**Colunas Categóricas do dataset:**"
      ],
      "text/plain": [
       "<IPython.core.display.Markdown object>"
      ]
     },
     "metadata": {},
     "output_type": "display_data"
    },
    {
     "data": {
      "text/plain": [
       "Index(['workClass', 'education', 'marital-status', 'occupation',\n",
       "       'relationship', 'race', 'sex', 'native-country', 'income'],\n",
       "      dtype='object')"
      ]
     },
     "execution_count": 49,
     "metadata": {},
     "output_type": "execute_result"
    }
   ],
   "source": [
    "# Obtendo as labels dos atributos categóricos do dataset\n",
    "\n",
    "display(Markdown(\"**Colunas Categóricas do dataset:**\"))\n",
    "cat_attributes = train_data.select_dtypes(include=['object'])\n",
    "cat_attributes.columns"
   ]
  },
  {
   "cell_type": "code",
   "execution_count": 50,
   "id": "c1921654",
   "metadata": {
    "scrolled": true
   },
   "outputs": [
    {
     "data": {
      "text/markdown": [
       "**Estatísticas Descritivas do dataset de Treinamento:**"
      ],
      "text/plain": [
       "<IPython.core.display.Markdown object>"
      ]
     },
     "metadata": {},
     "output_type": "display_data"
    },
    {
     "data": {
      "text/html": [
       "<div>\n",
       "<style scoped>\n",
       "    .dataframe tbody tr th:only-of-type {\n",
       "        vertical-align: middle;\n",
       "    }\n",
       "\n",
       "    .dataframe tbody tr th {\n",
       "        vertical-align: top;\n",
       "    }\n",
       "\n",
       "    .dataframe thead th {\n",
       "        text-align: right;\n",
       "    }\n",
       "</style>\n",
       "<table border=\"1\" class=\"dataframe\">\n",
       "  <thead>\n",
       "    <tr style=\"text-align: right;\">\n",
       "      <th></th>\n",
       "      <th>age</th>\n",
       "      <th>fnlwgt</th>\n",
       "      <th>education-num</th>\n",
       "      <th>capital-gain</th>\n",
       "      <th>capital-loss</th>\n",
       "      <th>hours-per-week</th>\n",
       "    </tr>\n",
       "  </thead>\n",
       "  <tbody>\n",
       "    <tr>\n",
       "      <th>count</th>\n",
       "      <td>32561.000000</td>\n",
       "      <td>3.256100e+04</td>\n",
       "      <td>32561.000000</td>\n",
       "      <td>32561.000000</td>\n",
       "      <td>32561.000000</td>\n",
       "      <td>32561.000000</td>\n",
       "    </tr>\n",
       "    <tr>\n",
       "      <th>mean</th>\n",
       "      <td>38.581647</td>\n",
       "      <td>1.897784e+05</td>\n",
       "      <td>10.080679</td>\n",
       "      <td>1077.648844</td>\n",
       "      <td>87.303830</td>\n",
       "      <td>40.437456</td>\n",
       "    </tr>\n",
       "    <tr>\n",
       "      <th>std</th>\n",
       "      <td>13.640433</td>\n",
       "      <td>1.055500e+05</td>\n",
       "      <td>2.572720</td>\n",
       "      <td>7385.292085</td>\n",
       "      <td>402.960219</td>\n",
       "      <td>12.347429</td>\n",
       "    </tr>\n",
       "    <tr>\n",
       "      <th>min</th>\n",
       "      <td>17.000000</td>\n",
       "      <td>1.228500e+04</td>\n",
       "      <td>1.000000</td>\n",
       "      <td>0.000000</td>\n",
       "      <td>0.000000</td>\n",
       "      <td>1.000000</td>\n",
       "    </tr>\n",
       "    <tr>\n",
       "      <th>25%</th>\n",
       "      <td>28.000000</td>\n",
       "      <td>1.178270e+05</td>\n",
       "      <td>9.000000</td>\n",
       "      <td>0.000000</td>\n",
       "      <td>0.000000</td>\n",
       "      <td>40.000000</td>\n",
       "    </tr>\n",
       "    <tr>\n",
       "      <th>50%</th>\n",
       "      <td>37.000000</td>\n",
       "      <td>1.783560e+05</td>\n",
       "      <td>10.000000</td>\n",
       "      <td>0.000000</td>\n",
       "      <td>0.000000</td>\n",
       "      <td>40.000000</td>\n",
       "    </tr>\n",
       "    <tr>\n",
       "      <th>75%</th>\n",
       "      <td>48.000000</td>\n",
       "      <td>2.370510e+05</td>\n",
       "      <td>12.000000</td>\n",
       "      <td>0.000000</td>\n",
       "      <td>0.000000</td>\n",
       "      <td>45.000000</td>\n",
       "    </tr>\n",
       "    <tr>\n",
       "      <th>max</th>\n",
       "      <td>90.000000</td>\n",
       "      <td>1.484705e+06</td>\n",
       "      <td>16.000000</td>\n",
       "      <td>99999.000000</td>\n",
       "      <td>4356.000000</td>\n",
       "      <td>99.000000</td>\n",
       "    </tr>\n",
       "  </tbody>\n",
       "</table>\n",
       "</div>"
      ],
      "text/plain": [
       "                age        fnlwgt  education-num  capital-gain  capital-loss  \\\n",
       "count  32561.000000  3.256100e+04   32561.000000  32561.000000  32561.000000   \n",
       "mean      38.581647  1.897784e+05      10.080679   1077.648844     87.303830   \n",
       "std       13.640433  1.055500e+05       2.572720   7385.292085    402.960219   \n",
       "min       17.000000  1.228500e+04       1.000000      0.000000      0.000000   \n",
       "25%       28.000000  1.178270e+05       9.000000      0.000000      0.000000   \n",
       "50%       37.000000  1.783560e+05      10.000000      0.000000      0.000000   \n",
       "75%       48.000000  2.370510e+05      12.000000      0.000000      0.000000   \n",
       "max       90.000000  1.484705e+06      16.000000  99999.000000   4356.000000   \n",
       "\n",
       "       hours-per-week  \n",
       "count    32561.000000  \n",
       "mean        40.437456  \n",
       "std         12.347429  \n",
       "min          1.000000  \n",
       "25%         40.000000  \n",
       "50%         40.000000  \n",
       "75%         45.000000  \n",
       "max         99.000000  "
      ]
     },
     "execution_count": 50,
     "metadata": {},
     "output_type": "execute_result"
    }
   ],
   "source": [
    "# Obtendo estatísticas descritivas dos atributos numéricos do dataset de treinamento\n",
    "\n",
    "display(Markdown(\"**Estatísticas Descritivas do dataset de Treinamento:**\"))\n",
    "train_data.describe()"
   ]
  },
  {
   "cell_type": "code",
   "execution_count": 53,
   "id": "89007ecb",
   "metadata": {
    "scrolled": false
   },
   "outputs": [
    {
     "data": {
      "text/markdown": [
       "**Estatísticas Descritivas do dataset de Teste:**"
      ],
      "text/plain": [
       "<IPython.core.display.Markdown object>"
      ]
     },
     "metadata": {},
     "output_type": "display_data"
    },
    {
     "data": {
      "text/html": [
       "<div>\n",
       "<style scoped>\n",
       "    .dataframe tbody tr th:only-of-type {\n",
       "        vertical-align: middle;\n",
       "    }\n",
       "\n",
       "    .dataframe tbody tr th {\n",
       "        vertical-align: top;\n",
       "    }\n",
       "\n",
       "    .dataframe thead th {\n",
       "        text-align: right;\n",
       "    }\n",
       "</style>\n",
       "<table border=\"1\" class=\"dataframe\">\n",
       "  <thead>\n",
       "    <tr style=\"text-align: right;\">\n",
       "      <th></th>\n",
       "      <th>age</th>\n",
       "      <th>fnlwgt</th>\n",
       "      <th>education-num</th>\n",
       "      <th>capital-gain</th>\n",
       "      <th>capital-loss</th>\n",
       "      <th>hours-per-week</th>\n",
       "    </tr>\n",
       "  </thead>\n",
       "  <tbody>\n",
       "    <tr>\n",
       "      <th>count</th>\n",
       "      <td>16281.000000</td>\n",
       "      <td>1.628100e+04</td>\n",
       "      <td>16281.000000</td>\n",
       "      <td>16281.000000</td>\n",
       "      <td>16281.000000</td>\n",
       "      <td>16281.000000</td>\n",
       "    </tr>\n",
       "    <tr>\n",
       "      <th>mean</th>\n",
       "      <td>38.767459</td>\n",
       "      <td>1.894357e+05</td>\n",
       "      <td>10.072907</td>\n",
       "      <td>1081.905104</td>\n",
       "      <td>87.899269</td>\n",
       "      <td>40.392236</td>\n",
       "    </tr>\n",
       "    <tr>\n",
       "      <th>std</th>\n",
       "      <td>13.849187</td>\n",
       "      <td>1.057149e+05</td>\n",
       "      <td>2.567545</td>\n",
       "      <td>7583.935968</td>\n",
       "      <td>403.105286</td>\n",
       "      <td>12.479332</td>\n",
       "    </tr>\n",
       "    <tr>\n",
       "      <th>min</th>\n",
       "      <td>17.000000</td>\n",
       "      <td>1.349200e+04</td>\n",
       "      <td>1.000000</td>\n",
       "      <td>0.000000</td>\n",
       "      <td>0.000000</td>\n",
       "      <td>1.000000</td>\n",
       "    </tr>\n",
       "    <tr>\n",
       "      <th>25%</th>\n",
       "      <td>28.000000</td>\n",
       "      <td>1.167360e+05</td>\n",
       "      <td>9.000000</td>\n",
       "      <td>0.000000</td>\n",
       "      <td>0.000000</td>\n",
       "      <td>40.000000</td>\n",
       "    </tr>\n",
       "    <tr>\n",
       "      <th>50%</th>\n",
       "      <td>37.000000</td>\n",
       "      <td>1.778310e+05</td>\n",
       "      <td>10.000000</td>\n",
       "      <td>0.000000</td>\n",
       "      <td>0.000000</td>\n",
       "      <td>40.000000</td>\n",
       "    </tr>\n",
       "    <tr>\n",
       "      <th>75%</th>\n",
       "      <td>48.000000</td>\n",
       "      <td>2.383840e+05</td>\n",
       "      <td>12.000000</td>\n",
       "      <td>0.000000</td>\n",
       "      <td>0.000000</td>\n",
       "      <td>45.000000</td>\n",
       "    </tr>\n",
       "    <tr>\n",
       "      <th>max</th>\n",
       "      <td>90.000000</td>\n",
       "      <td>1.490400e+06</td>\n",
       "      <td>16.000000</td>\n",
       "      <td>99999.000000</td>\n",
       "      <td>3770.000000</td>\n",
       "      <td>99.000000</td>\n",
       "    </tr>\n",
       "  </tbody>\n",
       "</table>\n",
       "</div>"
      ],
      "text/plain": [
       "                age        fnlwgt  education-num  capital-gain  capital-loss  \\\n",
       "count  16281.000000  1.628100e+04   16281.000000  16281.000000  16281.000000   \n",
       "mean      38.767459  1.894357e+05      10.072907   1081.905104     87.899269   \n",
       "std       13.849187  1.057149e+05       2.567545   7583.935968    403.105286   \n",
       "min       17.000000  1.349200e+04       1.000000      0.000000      0.000000   \n",
       "25%       28.000000  1.167360e+05       9.000000      0.000000      0.000000   \n",
       "50%       37.000000  1.778310e+05      10.000000      0.000000      0.000000   \n",
       "75%       48.000000  2.383840e+05      12.000000      0.000000      0.000000   \n",
       "max       90.000000  1.490400e+06      16.000000  99999.000000   3770.000000   \n",
       "\n",
       "       hours-per-week  \n",
       "count    16281.000000  \n",
       "mean        40.392236  \n",
       "std         12.479332  \n",
       "min          1.000000  \n",
       "25%         40.000000  \n",
       "50%         40.000000  \n",
       "75%         45.000000  \n",
       "max         99.000000  "
      ]
     },
     "execution_count": 53,
     "metadata": {},
     "output_type": "execute_result"
    }
   ],
   "source": [
    "# Obtendo estatísticas descritivas dos atributos numéricos do dataset de teste\n",
    "\n",
    "display(Markdown(\"**Estatísticas Descritivas do dataset de Teste:**\"))\n",
    "test_data.describe()"
   ]
  },
  {
   "cell_type": "code",
   "execution_count": 55,
   "id": "47edf6ae",
   "metadata": {},
   "outputs": [
    {
     "data": {
      "text/markdown": [
       "- Os valores das estatísticas descritivas entre os dois datasets são semelhantes"
      ],
      "text/plain": [
       "<IPython.core.display.Markdown object>"
      ]
     },
     "metadata": {},
     "output_type": "display_data"
    }
   ],
   "source": [
    "display(Markdown(\"- Os valores das estatísticas descritivas entre os dois datasets são semelhantes\"))"
   ]
  },
  {
   "cell_type": "code",
   "execution_count": 56,
   "id": "53cd95ff",
   "metadata": {},
   "outputs": [
    {
     "data": {
      "text/markdown": [
       "**Frequência dos Valores das Variáveis Numéricas do dataset de Treinamento:**"
      ],
      "text/plain": [
       "<IPython.core.display.Markdown object>"
      ]
     },
     "metadata": {},
     "output_type": "display_data"
    },
    {
     "data": {
      "text/plain": [
       "array([[<AxesSubplot:title={'center':'age'}>,\n",
       "        <AxesSubplot:title={'center':'fnlwgt'}>],\n",
       "       [<AxesSubplot:title={'center':'education-num'}>,\n",
       "        <AxesSubplot:title={'center':'capital-gain'}>],\n",
       "       [<AxesSubplot:title={'center':'capital-loss'}>,\n",
       "        <AxesSubplot:title={'center':'hours-per-week'}>]], dtype=object)"
      ]
     },
     "execution_count": 56,
     "metadata": {},
     "output_type": "execute_result"
    },
    {
     "data": {
      "image/png": "[encoded data removed]",
      "text/plain": [
       "<Figure size 720x720 with 6 Axes>"
      ]
     },
     "metadata": {
      "needs_background": "light"
     },
     "output_type": "display_data"
    }
   ],
   "source": [
    "# Plotando as frequências relacionadas aos atributos numéricos\n",
    "\n",
    "display(Markdown(\"**Frequência dos Valores das Variáveis Numéricas do dataset de Treinamento:**\"))\n",
    "num_attributes.hist(figsize=(10,10))"
   ]
  },
  {
   "cell_type": "code",
   "execution_count": 63,
   "id": "9d788dba",
   "metadata": {
    "scrolled": true
   },
   "outputs": [
    {
     "data": {
      "text/markdown": [
       "**Correlação entre as Variáveis Numéricas do dataset de Treinamento:**"
      ],
      "text/plain": [
       "<IPython.core.display.Markdown object>"
      ]
     },
     "metadata": {},
     "output_type": "display_data"
    },
    {
     "data": {
      "text/plain": [
       "<AxesSubplot:>"
      ]
     },
     "execution_count": 63,
     "metadata": {},
     "output_type": "execute_result"
    },
    {
     "data": {
      "image/png": "[encoded data removed]",
      "text/plain": [
       "<Figure size 1296x1296 with 2 Axes>"
      ]
     },
     "metadata": {},
     "output_type": "display_data"
    }
   ],
   "source": [
    "# Plotando a correlação entre as variáveis numéricas do dataset de treinamento\n",
    "\n",
    "display(Markdown(\"**Correlação entre as Variáveis Numéricas do dataset de Treinamento:**\"))\n",
    "correlation_matrix = num_attributes.corr().round(2)\n",
    "sns.heatmap(correlation_matrix, annot=True)"
   ]
  },
  {
   "cell_type": "code",
   "execution_count": 64,
   "id": "e756400a",
   "metadata": {},
   "outputs": [
    {
     "data": {
      "text/markdown": [
       "- Pode-se observar que a correlação entre as variáveis listadas acima é muito baixa"
      ],
      "text/plain": [
       "<IPython.core.display.Markdown object>"
      ]
     },
     "metadata": {},
     "output_type": "display_data"
    }
   ],
   "source": [
    "display(Markdown(\"- Pode-se observar que a correlação entre as variáveis listadas acima é muito baixa\"))"
   ]
  },
  {
   "cell_type": "code",
   "execution_count": 57,
   "id": "bb724497",
   "metadata": {},
   "outputs": [
    {
     "data": {
      "text/markdown": [
       "**Frequência dos Valores das Variáveis Categóricas do dataset de Treinamento relacionada à Variável Target:**"
      ],
      "text/plain": [
       "<IPython.core.display.Markdown object>"
      ]
     },
     "metadata": {},
     "output_type": "display_data"
    },
    {
     "data": {
      "text/plain": [
       "<AxesSubplot:xlabel='count', ylabel='sex'>"
      ]
     },
     "execution_count": 57,
     "metadata": {},
     "output_type": "execute_result"
    },
    {
     "data": {
      "image/png": "[encoded data removed]",
      "text/plain": [
       "<Figure size 1296x1296 with 6 Axes>"
      ]
     },
     "metadata": {},
     "output_type": "display_data"
    }
   ],
   "source": [
    "# Plotando a relação entre as variáveis categóricas independentes e a variável target\n",
    "\n",
    "sns.set(rc={\"figure.figsize\":(18,18)})\n",
    "\n",
    "display(Markdown(\"**Frequência dos Valores das Variáveis Categóricas do dataset de Treinamento relacionada à Variável Target:**\"))\n",
    "fig, ax = plt.subplots(3,2)\n",
    "\n",
    "sns.countplot(ax=ax[0,0],data=cat_attributes, y='workClass', hue='income')\n",
    "sns.countplot(ax=ax[0,1],data=cat_attributes, y='education', hue='income')\n",
    "sns.countplot(ax=ax[1,0],data=cat_attributes, y='marital-status', hue='income')\n",
    "sns.countplot(ax=ax[1,1],data=cat_attributes, y='relationship', hue='income')\n",
    "sns.countplot(ax=ax[2,0],data=cat_attributes, y='race', hue='income')\n",
    "sns.countplot(ax=ax[2,1],data=cat_attributes, y='sex', hue='income')"
   ]
  },
  {
   "cell_type": "code",
   "execution_count": 13,
   "id": "53ad10d3",
   "metadata": {},
   "outputs": [],
   "source": [
    "# Transformador que irá obter o(s) valor(es) da(s) coluna(s) de um dataframe passado por parâmetro, selecionando o(s) valor(es) pelo tipo desejado, também passado por parâmetro, do atributo\n",
    "\n",
    "class ColumnSelector(BaseEstimator, TransformerMixin):\n",
    "    \n",
    "#   Construtor recebe o tipo desejado do atributo  \n",
    "    def __init__(self, type):\n",
    "        self.type = type\n",
    "    \n",
    "    def fit(self, X, y=None):\n",
    "        return self\n",
    "      \n",
    "#   Retorna o(s) valor(es) correspondente(s) da(s) coluna(s) selecionada(s)      \n",
    "    def transform(self,X):\n",
    "        return X.select_dtypes(include=[self.type])\n",
    "    "
   ]
  },
  {
   "cell_type": "code",
   "execution_count": 14,
   "id": "bf9649b4",
   "metadata": {},
   "outputs": [],
   "source": [
    "# Constrói um pipeline para aplicar múltiplas transformações\n",
    "\n",
    "num_pipeline = Pipeline(steps=[\n",
    "#   Obtem-se as colunas numéricas \n",
    "    (\"num_attr_selector\",ColumnSelector(int)),\n",
    "#   Normaliza os valores obtidos anteriormente para que obtenham média igual a zero e desvio padrão igual a um  \n",
    "    (\"Scaler\", StandardScaler())\n",
    "])"
   ]
  },
  {
   "cell_type": "code",
   "execution_count": 15,
   "id": "094e266a",
   "metadata": {},
   "outputs": [],
   "source": [
    "# num_pipeline.fit_transform(train_data)"
   ]
  },
  {
   "cell_type": "code",
   "execution_count": 16,
   "id": "67ffb471",
   "metadata": {},
   "outputs": [
    {
     "name": "stderr",
     "output_type": "stream",
     "text": [
      "<>:15: SyntaxWarning: \"is\" with a literal. Did you mean \"==\"?\n",
      "<>:15: SyntaxWarning: \"is\" with a literal. Did you mean \"==\"?\n",
      "C:\\Users\\gabriel.felix\\AppData\\Local\\Temp\\ipykernel_12940\\4168260613.py:15: SyntaxWarning: \"is\" with a literal. Did you mean \"==\"?\n",
      "  if self.strategy is 'most_frequent':\n"
     ]
    }
   ],
   "source": [
    "# Transformador que irá imputar o(s) valor(es) faltante(s) de um dataframe passado por parâmetro\n",
    "\n",
    "class CategoricalImputer(BaseEstimator, TransformerMixin):\n",
    "    \n",
    "    def __init__(self, columns=None, strategy='most_frequent'):\n",
    "        self.columns = columns\n",
    "        self.strategy = strategy\n",
    "        \n",
    "    def fit(self, X, y=None):\n",
    "#       Se a instância não houver colunas, atribui a ela as colunas passadas como parâmetro na função fit  \n",
    "        if self.columns is None:\n",
    "            self.columns = X.columns\n",
    "    \n",
    "#       Se a estratégia da instância for 'most_frequent', preenche uma lista (fill) com o valor de maior frequência de cada coluna\n",
    "        if self.strategy is 'most_frequent':\n",
    "            self.fill = {column: X[column].value_counts().index[0] for column in self.columns}\n",
    "\n",
    "        return self\n",
    "     \n",
    "    def transform(self,X):\n",
    "#       Faz uma cópia do dataset e preenche os valores faltantes de cada coluna com o respectivo valor contido na lista 'fill'  \n",
    "        x_copy = X.copy()\n",
    "        for column in self.columns:\n",
    "            x_copy[column] = x_copy[column].fillna(self.fill[column])\n",
    "            \n",
    "        return x_copy"
   ]
  },
  {
   "cell_type": "code",
   "execution_count": 17,
   "id": "f18e167d",
   "metadata": {},
   "outputs": [],
   "source": [
    "# Transformador que irá discretizar o(s) atributo(s) categórico(s) de um dataframe passado por parâmetro\n",
    "\n",
    "class CategoricalEncoder(BaseEstimator, TransformerMixin):\n",
    "    \n",
    "    def __init__(self, dropFirst=True):\n",
    "        self.categories = dict()\n",
    "        self.dropFirst = dropFirst\n",
    "        \n",
    "    def fit(self, X, y=None):\n",
    "#       Concatena os dataframes de treino e teste  \n",
    "        join_df = pd.concat([train_data, test_data])\n",
    "#       Obtém apenas as colunas categóricas\n",
    "        join_df = join_df.select_dtypes(include=['object'])\n",
    "#       Adiciona cada coluna categórica ao dicionário 'categories' com o nome da coluna como chave e uma lista com os índices dos valores da coluna como valor\n",
    "        for column in join_df.columns:\n",
    "            self.categories[column] = join_df[column].value_counts().index.tolist()\n",
    "            \n",
    "        return self\n",
    "    \n",
    "    def transform(self, X):\n",
    "#       Faz uma cópia do dataset e obtém apenas as colunas categóricas  \n",
    "        x_copy = X.copy()\n",
    "        x_copy = x_copy.select_dtypes(include=['object'])\n",
    "#       Converte o tipo da coluna para respectivo tipo do valor armazenado no dicionário 'categories'  \n",
    "        for column in x_copy.columns:\n",
    "            x_copy[column] = x_copy[column].astype({column: CategoricalDtype(self.categories[column])})\n",
    "            \n",
    "#       Converte e retorna os atributos categóricos em indicadores (dummy) do dataframe cópia      \n",
    "        return pd.get_dummies(x_copy, drop_first=self.dropFirst)"
   ]
  },
  {
   "cell_type": "code",
   "execution_count": 18,
   "id": "28b17c38",
   "metadata": {},
   "outputs": [],
   "source": [
    "# Constrói um pipeline para aplicar múltiplas transformações\n",
    "\n",
    "cat_pipeline = Pipeline(steps=[\n",
    "#   Obtem-se as colunas categóricas \n",
    "    ('cat_attr_selector', ColumnSelector(object)),\n",
    "#   Imputa-se os valores faltantes para as colunas especificadas  \n",
    "    ('cat_imputer', CategoricalImputer(columns=['workClass', 'occupation', 'native-country'])),\n",
    "#   Codifica-se as variáveis categóricas, transformando-as em indicadoras numéricas discretizadas  \n",
    "    ('encoder', CategoricalEncoder())\n",
    "])"
   ]
  },
  {
   "cell_type": "code",
   "execution_count": 19,
   "id": "f0c3c927",
   "metadata": {},
   "outputs": [],
   "source": [
    "# Constrói uma FeatureUnion para aplicar múltiplos pipelines\n",
    "\n",
    "full_pipeline = FeatureUnion([\n",
    "    ('num_pipe', num_pipeline),\n",
    "    ('cat_pipe', cat_pipeline)\n",
    "])"
   ]
  },
  {
   "cell_type": "code",
   "execution_count": 20,
   "id": "74d4f3b7",
   "metadata": {},
   "outputs": [],
   "source": [
    "# Retira as colunas 'fnlwgt' e 'education' do dataset\n",
    "\n",
    "train_data.drop(['fnlwgt', 'education'], axis=1, inplace=True)\n",
    "test_data.drop(['fnlwgt', 'education'], axis=1, inplace=True)"
   ]
  },
  {
   "cell_type": "code",
   "execution_count": 21,
   "id": "163a5764",
   "metadata": {},
   "outputs": [],
   "source": [
    "# Faz uma cópia do dataset de treino e de teste e discretiza a variável target, tornando-a numérica\n",
    "\n",
    "train_copy = train_data.copy()\n",
    "train_copy['income'] = train_copy['income'].apply(lambda x: 0 if x=='<=50K' else 1)\n",
    "\n",
    "test_copy = test_data.copy()\n",
    "test_copy['income'] = test_copy['income'].apply(lambda x: 0 if x=='<=50K.' else 1)\n",
    "\n",
    "# Separa os datasets em variáveis independentes (x) e variável target (y), de treinamento (train) e de teste (test)\n",
    "\n",
    "x_train = train_copy.drop('income', axis=1)\n",
    "y_train = train_copy['income']\n",
    "x_test = test_copy.drop('income', axis=1)\n",
    "y_test = test_copy['income']"
   ]
  },
  {
   "cell_type": "code",
   "execution_count": 22,
   "id": "fad479c4",
   "metadata": {},
   "outputs": [
    {
     "data": {
      "text/plain": [
       "LogisticRegression(max_iter=200, random_state=0)"
      ]
     },
     "execution_count": 22,
     "metadata": {},
     "output_type": "execute_result"
    }
   ],
   "source": [
    "# Aplica as transformações numéricas e categóricas no dataset de variáveis independentes de treinamento\n",
    "\n",
    "x_train_processed = full_pipeline.fit_transform(x_train)\n",
    "\n",
    "# Constrói um modelo de regressão logística e o ajusta com as variáveis independentes e com a variável target transformadas\n",
    "\n",
    "model = LogisticRegression(random_state=0, max_iter=200)\n",
    "model.fit(x_train_processed, y_train)"
   ]
  },
  {
   "cell_type": "code",
   "execution_count": 23,
   "id": "9d16d970",
   "metadata": {},
   "outputs": [],
   "source": [
    "# Aplica as transformações numéricas e categóricas no dataset de variáveis independentes de teste\n",
    "\n",
    "x_test_processed = full_pipeline.fit_transform(x_test)\n",
    "\n",
    "# Solicita a predição do valor target das amostras de teste\n",
    "\n",
    "predicted_classes = model.predict(x_test_processed)"
   ]
  },
  {
   "cell_type": "code",
   "execution_count": 24,
   "id": "13045b98",
   "metadata": {},
   "outputs": [
    {
     "data": {
      "text/plain": [
       "0.8524660647380382"
      ]
     },
     "execution_count": 24,
     "metadata": {},
     "output_type": "execute_result"
    }
   ],
   "source": [
    "# Calcula a assertividade relativa da predição do modelo sobre o dataset de teste\n",
    "\n",
    "accuracy_score(predicted_classes, y_test.values)"
   ]
  },
  {
   "cell_type": "code",
   "execution_count": 65,
   "id": "77dd3d39",
   "metadata": {},
   "outputs": [
    {
     "data": {
      "text/markdown": [
       "**Matriz de Confusão dos valores Preditos pelo modelo de Regressão Logística:**"
      ],
      "text/plain": [
       "<IPython.core.display.Markdown object>"
      ]
     },
     "metadata": {},
     "output_type": "display_data"
    },
    {
     "data": {
      "text/plain": [
       "Text(138.5, 0.5, 'Actual Classes')"
      ]
     },
     "execution_count": 65,
     "metadata": {},
     "output_type": "execute_result"
    },
    {
     "data": {
      "image/png": "[encoded data removed]",
      "text/plain": [
       "<Figure size 1296x1296 with 2 Axes>"
      ]
     },
     "metadata": {},
     "output_type": "display_data"
    }
   ],
   "source": [
    "# Calcula e plota a matriz de confusão das predições do modelo sobre o dataset de teste\n",
    "\n",
    "display(Markdown(\"**Matriz de Confusão dos valores Preditos pelo modelo de Regressão Logística:**\"))\n",
    "cfm = confusion_matrix(predicted_classes, y_test.values)\n",
    "sns.heatmap(cfm, annot=True)\n",
    "plt.xlabel('Predicted Classes')\n",
    "plt.ylabel('Actual Classes')"
   ]
  },
  {
   "cell_type": "code",
   "execution_count": 68,
   "id": "c79734d3",
   "metadata": {},
   "outputs": [
    {
     "data": {
      "text/markdown": [
       "**Score médio do Stratified KFold (K=10) do modelo de Regressão Logística:**"
      ],
      "text/plain": [
       "<IPython.core.display.Markdown object>"
      ]
     },
     "metadata": {},
     "output_type": "display_data"
    },
    {
     "name": "stdout",
     "output_type": "stream",
     "text": [
      "0.8505575404024898\n"
     ]
    },
    {
     "data": {
      "text/markdown": [
       "- Em média, o modelo acerta 85% das predições"
      ],
      "text/plain": [
       "<IPython.core.display.Markdown object>"
      ]
     },
     "metadata": {},
     "output_type": "display_data"
    }
   ],
   "source": [
    "# Calcula o Cross Validation utilizando Stratified KFold com 10 grupos e exibe a média dos scores obtidos\n",
    "\n",
    "display(Markdown(\"**Score médio do Stratified KFold (K=10) do modelo de Regressão Logística:**\"))\n",
    "scores = cross_val_score(model, x_train_processed, y_train, cv=10)\n",
    "print(np.mean(scores))\n",
    "display(Markdown(\"- Em média, o modelo acerta 85% das predições\"))"
   ]
  }
 ],
 "metadata": {
  "kernelspec": {
   "display_name": "Python 3 (ipykernel)",
   "language": "python",
   "name": "python3"
  },
  "language_info": {
   "codemirror_mode": {
    "name": "ipython",
    "version": 3
   },
   "file_extension": ".py",
   "mimetype": "text/x-python",
   "name": "python",
   "nbconvert_exporter": "python",
   "pygments_lexer": "ipython3",
   "version": "3.9.12"
  }
 },
 "nbformat": 4,
 "nbformat_minor": 5
}
